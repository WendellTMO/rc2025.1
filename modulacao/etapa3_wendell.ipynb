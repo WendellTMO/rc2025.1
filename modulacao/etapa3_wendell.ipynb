{
 "cells": [
  {
   "cell_type": "markdown",
   "id": "bf5c5b55",
   "metadata": {},
   "source": [
    "# Atividade: Impacto do Ruído na Comunicação\n",
    "\n",
    "- **ALUNO**: WENDELL TOMÉ MARINHO OLIVEIRA\n",
    "- **MATRÍCULA**: 122110748"
   ]
  },
  {
   "cell_type": "markdown",
   "id": "3b16aa3c",
   "metadata": {},
   "source": [
    "### Análise Crítica\n",
    "\n",
    "Utilizei o código disponível no meu [repositório](https://github.com/WendellTMO/rc2025.1/tree/main/modulacao) (que é o fork modulação template com alguns incrementes) para analisar a partir de qual nível de ruído o nosso decodificador irá começar a falhar.\n",
    "\n",
    "### Qual a estratégia utilizada?\n",
    "\n",
    "Para avaliar o ponto em que o sistema começa a falhar, adotei a seguinte abordagem:\n",
    "\n",
    "- Variei o nível de ruído (SNR) entre **-75 dB e -3 dB**.\n",
    "- Para cada valor de SNR, gerei um sinal com ruído e o submeti ao processo de decodificação.\n",
    "- Comparei a mensagem decodificada com a original e contabilizei o número de **bits incorretos**.\n",
    "- Registrei esses erros para cada valor de SNR e os utilizei para gerar o gráfico a seguir.\n",
    "\n",
    "\n",
    "### Resultado:\n",
    "\n",
    "![Plot dos Ruídos](plot_ruido.png)"
   ]
  },
  {
   "cell_type": "markdown",
   "id": "660b68c1",
   "metadata": {},
   "source": [
    "### Observações:\n",
    "\n",
    "#### a) Identifique o valor de SNR onde os primeiros bits são comprometidos.\n",
    "\n",
    "Analisando o gráfico, observamos que os primeiros erros começam a surgir em torno de SNR = -30dB. Acima desse valor, a decodificação foi perfeita.\n",
    "\n",
    "#### b) Identifique o valor de SNR onde os todos os bits são comprometidos\n",
    "\n",
    "A partir de um SNR de aproximadamente -40 dB, observamos que o sistema atinge consistentemente uma taxa de erro elevada, chegando a 6 erros em 8 bits na mensagem original. \n",
    "\n",
    "Embora o ruído tenha impacto direto na decodificação, também é importante considerar o fator **aleatoriedade** na geração do ruído gaussiano, o que faz com que a ocorrência de todos os bits estarem errados (8/8) varie de execução para execução.\n",
    "\n",
    "No entanto, o fato de estarmos nessa faixa de erro (6 ou mais erros) já indica que o nível de ruído é tão alto que o sinal original está quase completamente comprometido, e a decodificação correta se torna praticamente inviável. Isso demonstra que, a partir desse ponto, o sistema perde a confiabilidade total e deixa de ser funcional."
   ]
  }
 ],
 "metadata": {
  "language_info": {
   "name": "python"
  }
 },
 "nbformat": 4,
 "nbformat_minor": 5
}
